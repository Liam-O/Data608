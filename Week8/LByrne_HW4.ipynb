{
 "cells": [
  {
   "cell_type": "markdown",
   "metadata": {},
   "source": [
    "## Data 608 - Homework 4\n",
    "### Liam Byrne"
   ]
  },
  {
   "cell_type": "markdown",
   "metadata": {},
   "source": [
    "**Background:** Enterococcus is a fecal indicating bacteria that lives in the intestines of humans and other warm-blooded animals. Enterococcus (“ Entero”) counts are useful as a water quality indicator due to their abundance in human sewage, correlation with many human pathogens and low abundance in sewage free environments. The United States Environmental Protection Agency (EPA) reports Entero counts as colonies (or cells) per 100 ml of water.\n",
    "\n",
    "Riverkeeper has based its assessment of acceptable water quality on the 2012 Federal Recreational Water Quality Criteria from the US EPA. Unacceptable water is based on an illness rate of 32 per 1000 swimmers. The federal standard for unacceptable water quality is a single sample value of greater than 110 Enterococcus/100 mL, or five or more samples with a geometric mean (a weighted average) greater than 30 Enterococcus/100 mL."
   ]
  },
  {
   "cell_type": "markdown",
   "metadata": {},
   "source": [
    "#### Explore and Clean Data\n"
   ]
  },
  {
   "cell_type": "code",
   "execution_count": 1,
   "metadata": {
    "collapsed": false,
    "deletable": true,
    "editable": true,
    "scrolled": true
   },
   "outputs": [],
   "source": [
    "import pandas as pd\n",
    "import numpy as np\n",
    "import plotly.plotly as py\n",
    "import plotly.graph_objs as go\n",
    "import qgrid as qg\n",
    "qg.nbinstall(overwrite = True)\n",
    "import warnings\n",
    "warnings.filterwarnings('ignore')\n",
    "import seaborn as sns\n",
    "sns.set(color_codes=True)\n",
    "%matplotlib inline\n",
    "import matplotlib.pyplot as plt\n",
    "import statsmodels.api as sm\n",
    "from scipy.stats.mstats import gmean"
   ]
  },
  {
   "cell_type": "code",
   "execution_count": 2,
   "metadata": {
    "collapsed": false,
    "deletable": true,
    "editable": true,
    "scrolled": true
   },
   "outputs": [],
   "source": [
    "river_entero = pd.read_csv(\n",
    "    \"https://raw.githubusercontent.com/charleyferrari/CUNY_DATA608/master/lecture4/Data/riverkeeper_data_2013.csv\")"
   ]
  },
  {
   "cell_type": "markdown",
   "metadata": {},
   "source": [
    "Giving a glance at the data, we notice that there are a `<` and `>` symbols in the `EnteroCount` fields. This was probably used when values were outside a measuring capacity. Due to this, as is seen below, the data type is generic; this will need to be addressed."
   ]
  },
  {
   "cell_type": "code",
   "execution_count": 3,
   "metadata": {
    "collapsed": false,
    "deletable": true,
    "editable": true,
    "scrolled": false
   },
   "outputs": [
    {
     "data": {
      "text/html": [
       "<div>\n",
       "<table border=\"1\" class=\"dataframe\">\n",
       "  <thead>\n",
       "    <tr style=\"text-align: right;\">\n",
       "      <th></th>\n",
       "      <th>Site</th>\n",
       "      <th>Date</th>\n",
       "      <th>EnteroCount</th>\n",
       "      <th>FourDayRainTotal</th>\n",
       "      <th>SampleCount</th>\n",
       "    </tr>\n",
       "  </thead>\n",
       "  <tbody>\n",
       "    <tr>\n",
       "      <th>20</th>\n",
       "      <td>Hudson above Mohawk River</td>\n",
       "      <td>8/21/2010</td>\n",
       "      <td>25</td>\n",
       "      <td>0.2</td>\n",
       "      <td>35</td>\n",
       "    </tr>\n",
       "    <tr>\n",
       "      <th>21</th>\n",
       "      <td>Hudson above Mohawk River</td>\n",
       "      <td>7/19/2010</td>\n",
       "      <td>31</td>\n",
       "      <td>0.7</td>\n",
       "      <td>35</td>\n",
       "    </tr>\n",
       "    <tr>\n",
       "      <th>22</th>\n",
       "      <td>Hudson above Mohawk River</td>\n",
       "      <td>5/22/2008</td>\n",
       "      <td>12</td>\n",
       "      <td>0.2</td>\n",
       "      <td>35</td>\n",
       "    </tr>\n",
       "    <tr>\n",
       "      <th>23</th>\n",
       "      <td>Hudson above Mohawk River</td>\n",
       "      <td>5/25/2010</td>\n",
       "      <td>&lt;1</td>\n",
       "      <td>0.0</td>\n",
       "      <td>35</td>\n",
       "    </tr>\n",
       "    <tr>\n",
       "      <th>24</th>\n",
       "      <td>Hudson above Mohawk River</td>\n",
       "      <td>10/23/2009</td>\n",
       "      <td>4</td>\n",
       "      <td>0.0</td>\n",
       "      <td>35</td>\n",
       "    </tr>\n",
       "    <tr>\n",
       "      <th>25</th>\n",
       "      <td>Hudson above Mohawk River</td>\n",
       "      <td>9/17/2009</td>\n",
       "      <td>28</td>\n",
       "      <td>0.0</td>\n",
       "      <td>35</td>\n",
       "    </tr>\n",
       "    <tr>\n",
       "      <th>26</th>\n",
       "      <td>Hudson above Mohawk River</td>\n",
       "      <td>8/24/2009</td>\n",
       "      <td>276</td>\n",
       "      <td>2.8</td>\n",
       "      <td>35</td>\n",
       "    </tr>\n",
       "    <tr>\n",
       "      <th>27</th>\n",
       "      <td>Hudson above Mohawk River</td>\n",
       "      <td>7/31/2009</td>\n",
       "      <td>&gt;2420</td>\n",
       "      <td>1.9</td>\n",
       "      <td>35</td>\n",
       "    </tr>\n",
       "    <tr>\n",
       "      <th>28</th>\n",
       "      <td>Hudson above Mohawk River</td>\n",
       "      <td>5/15/2009</td>\n",
       "      <td>6</td>\n",
       "      <td>0.5</td>\n",
       "      <td>35</td>\n",
       "    </tr>\n",
       "    <tr>\n",
       "      <th>29</th>\n",
       "      <td>Hudson above Mohawk River</td>\n",
       "      <td>10/23/2008</td>\n",
       "      <td>&lt;1</td>\n",
       "      <td>0.3</td>\n",
       "      <td>35</td>\n",
       "    </tr>\n",
       "  </tbody>\n",
       "</table>\n",
       "</div>"
      ],
      "text/plain": [
       "                         Site        Date EnteroCount  FourDayRainTotal  \\\n",
       "20  Hudson above Mohawk River   8/21/2010          25               0.2   \n",
       "21  Hudson above Mohawk River   7/19/2010          31               0.7   \n",
       "22  Hudson above Mohawk River   5/22/2008          12               0.2   \n",
       "23  Hudson above Mohawk River   5/25/2010          <1               0.0   \n",
       "24  Hudson above Mohawk River  10/23/2009           4               0.0   \n",
       "25  Hudson above Mohawk River   9/17/2009          28               0.0   \n",
       "26  Hudson above Mohawk River   8/24/2009         276               2.8   \n",
       "27  Hudson above Mohawk River   7/31/2009       >2420               1.9   \n",
       "28  Hudson above Mohawk River   5/15/2009           6               0.5   \n",
       "29  Hudson above Mohawk River  10/23/2008          <1               0.3   \n",
       "\n",
       "    SampleCount  \n",
       "20           35  \n",
       "21           35  \n",
       "22           35  \n",
       "23           35  \n",
       "24           35  \n",
       "25           35  \n",
       "26           35  \n",
       "27           35  \n",
       "28           35  \n",
       "29           35  "
      ]
     },
     "execution_count": 3,
     "metadata": {},
     "output_type": "execute_result"
    }
   ],
   "source": [
    "river_entero[20:30]"
   ]
  },
  {
   "cell_type": "markdown",
   "metadata": {},
   "source": [
    "In addition, the data type for `Date` is wrong (it is stored as a string). The following code, utilizing casting and some simple regex, remedies these issues. Using `qgrid`, the enireity of the cleaned data set is viewable in a sortable\\filterable interface below."
   ]
  },
  {
   "cell_type": "code",
   "execution_count": 4,
   "metadata": {
    "collapsed": false,
    "deletable": true,
    "editable": true,
    "scrolled": true
   },
   "outputs": [
    {
     "data": {
      "text/plain": [
       "Site                 object\n",
       "Date                 object\n",
       "EnteroCount          object\n",
       "FourDayRainTotal    float64\n",
       "SampleCount           int64\n",
       "dtype: object"
      ]
     },
     "execution_count": 4,
     "metadata": {},
     "output_type": "execute_result"
    }
   ],
   "source": [
    "river_entero.dtypes"
   ]
  },
  {
   "cell_type": "code",
   "execution_count": 5,
   "metadata": {
    "collapsed": false,
    "deletable": true,
    "editable": true,
    "scrolled": true
   },
   "outputs": [],
   "source": [
    "river_entero.Date = pd.to_datetime(\n",
    "    river_entero.Date,\n",
    "    errors = \"coerce\")\n",
    "\n",
    "river_entero.EnteroCount = pd.to_numeric(\n",
    "    river_entero.EnteroCount.replace(\"\\D+\",\"\", regex = True),\n",
    "    errors = \"coerce\")\n",
    "\n",
    "river_entero = river_entero.dropna(axis=0)\n",
    "\n",
    "# Need to drop EnteroCount >0 to make geometric mean fair\n",
    "river_entero = river_entero[river_entero.EnteroCount>0]\n",
    "\n",
    "\n",
    "qg.show_grid(river_entero)"
   ]
  },
  {
   "cell_type": "markdown",
   "metadata": {},
   "source": [
    "### Question 1\n",
    "**Create lists & graphs of the best and worst places to swim in the dataset.**"
   ]
  },
  {
   "cell_type": "markdown",
   "metadata": {},
   "source": [
    "Pandas' `groupby` tool makes quick bussiness of this. The table, with the lowest `SwimRank` denoting the lowest average Entero Count by `Site`, is available below. The rank of the best places to swim were based off of the geometric mean of the Entero Counts."
   ]
  },
  {
   "cell_type": "code",
   "execution_count": 6,
   "metadata": {
    "collapsed": false,
    "deletable": true,
    "editable": true,
    "scrolled": false
   },
   "outputs": [],
   "source": [
    "river_avg = pd.DataFrame(river_entero.EnteroCount.groupby(river_entero.Site).aggregate({\"GeomMeanEntero\":gmean}))\n",
    "river_avg = river_avg.sort_values(by = \"GeomMeanEntero\", ascending = True)\n",
    "river_avg['SwimRank'] = river_avg.GeomMeanEntero.rank()\n",
    "qg.show_grid(river_avg)"
   ]
  },
  {
   "cell_type": "markdown",
   "metadata": {},
   "source": [
    "The graph below shows the respective `Site`s' average Entero count and is sorted, bottom - up, by the increase in Entero geometric means. The `Site`s that are over the EPA limit of 30 Enterococcus/100 mL are colored red and are unsafe, those under the limit are colored green."
   ]
  },
  {
   "cell_type": "code",
   "execution_count": 7,
   "metadata": {
    "collapsed": false,
    "deletable": true,
    "editable": true,
    "scrolled": false
   },
   "outputs": [
    {
     "data": {
      "text/html": [
       "<iframe id=\"igraph\" scrolling=\"no\" style=\"border:none;\" seamless=\"seamless\" src=\"https://plot.ly/~Liam-O/212.embed\" height=\"1400px\" width=\"100%\"></iframe>"
      ],
      "text/plain": [
       "<plotly.tools.PlotlyDisplay object>"
      ]
     },
     "execution_count": 7,
     "metadata": {},
     "output_type": "execute_result"
    }
   ],
   "source": [
    "mask1 = river_avg.GeomMeanEntero <= 30\n",
    "mask2 = river_avg.GeomMeanEntero > 30\n",
    "\n",
    "dat = [\n",
    "    go.Bar(\n",
    "        y = river_avg.index[mask1],\n",
    "        x = river_avg.GeomMeanEntero[mask1],\n",
    "        marker = dict(\n",
    "            color = \"green\"\n",
    "            ),\n",
    "        name = \"Safe Swimming Water\",\n",
    "        orientation = 'h'),\n",
    "    go.Bar(\n",
    "        y = river_avg.index[mask2],\n",
    "        x = river_avg.GeomMeanEntero[mask2],\n",
    "        marker = dict(\n",
    "            color = \"red\"\n",
    "            ),\n",
    "        name = \"Water over EPA limits\",\n",
    "        orientation = 'h')\n",
    "    ]\n",
    "\n",
    "lay = go.Layout(\n",
    "   height = '1400',\n",
    "    margin = go.Margin(l=300),\n",
    "    title = \"Geometric Mean of Entero Counts by Site\",\n",
    "    xaxis = {\"title\" : \"Entero Count\"}\n",
    ")\n",
    "\n",
    "fig = go.Figure(data = dat, layout = lay)\n",
    "\n",
    "py.iplot(fig)"
   ]
  },
  {
   "cell_type": "markdown",
   "metadata": {},
   "source": [
    "### Question 2\n",
    "**The testing of water quality can be sporadic. Which sites have been tested most regularly? Which ones have long gaps between tests? Pick out 5-10 sites and visually compare how regularly their water quality is tested.**"
   ]
  },
  {
   "cell_type": "markdown",
   "metadata": {},
   "source": [
    "In order to find out how sporadic the tests were carried out, the average difference between testing date were computed. The sites are ranked by how frequently they were tested, in ascending order. The table below shows these rankings along with the number of tests thatthe EPA would consider a non-acceptable level of Enero."
   ]
  },
  {
   "cell_type": "code",
   "execution_count": 8,
   "metadata": {
    "collapsed": false,
    "deletable": true,
    "editable": true,
    "scrolled": false
   },
   "outputs": [],
   "source": [
    "# Find the average timedelta between tests for sites.\n",
    "def date_delta(x) :\n",
    "    x = x.sort_values()\n",
    "    delta = []\n",
    "    tmp = []\n",
    "    \n",
    "    #put series into list because off-set is indexing difficult with pd.core.series.series\n",
    "    for i in x:\n",
    "        tmp.append(i)        \n",
    "        \n",
    "    for i in xrange(1,len(tmp)) :\n",
    "        delta.append((tmp[i]-tmp[i-1]))\n",
    "     \n",
    "    return(np.mean(delta))\n",
    "\n",
    "test_diff = pd.DataFrame(river_entero.groupby(['Site']).Date.aggregate({\"DaysBtwnTest\":date_delta}))\n",
    "test_diff = test_diff.sort_values(by = \"DaysBtwnTest\", ascending = True)\n",
    "test_diff['TestRank'] = test_diff.rank()\n",
    "test_diff.DaysBtwnTest = test_diff.DaysBtwnTest.dt.days #Convert timedelta to days\n",
    "\n",
    "# Count times each site exceeds Enterno regulaiton\n",
    "exceed_cnt = pd.DataFrame(\n",
    "    river_entero.groupby(\n",
    "        river_entero.Site).aggregate(\n",
    "        lambda x: sum(x.EnteroCount > 110)).EnteroCount)\n",
    "\n",
    "test_diff[\"ExceededRegulation\"] = exceed_cnt.EnteroCount[test_diff.index]\n",
    "qg.show_grid(test_diff)"
   ]
  },
  {
   "cell_type": "markdown",
   "metadata": {},
   "source": [
    "The top 3 tested sites (those tested most frequently) and the bottom 3 (had the most, on average, large gaps between tests) with their respective ranks are:\n",
    "\n",
    "* 1 - Upper Sparkill Creek\n",
    "* 2 - Piermont Pier\n",
    "* 3 - Nyack Launch Ramp\n",
    "* 73 - Stony Point mid-channel\n",
    "* 74 - Gowanus Canal\n",
    "* 75 - Tarrytown Marina\n",
    "\n",
    "They are plotted below. The red scatter indicates that the specific test exceeded EPA Entero levels. It was thought that being over EPA limits would cause more frequent tests in an attempt to get the geometric mean down below the 30 Entero count. From the table above and this graph below, this idea does not hold water."
   ]
  },
  {
   "cell_type": "code",
   "execution_count": 9,
   "metadata": {
    "collapsed": false,
    "deletable": true,
    "editable": true,
    "scrolled": false
   },
   "outputs": [
    {
     "data": {
      "text/html": [
       "<iframe id=\"igraph\" scrolling=\"no\" style=\"border:none;\" seamless=\"seamless\" src=\"https://plot.ly/~Liam-O/214.embed\" height=\"525px\" width=\"100%\"></iframe>"
      ],
      "text/plain": [
       "<plotly.tools.PlotlyDisplay object>"
      ]
     },
     "execution_count": 9,
     "metadata": {},
     "output_type": "execute_result"
    }
   ],
   "source": [
    "# Get data for top three and bottom 3 ranked testing sites\n",
    "test_days = river_entero[\n",
    "    river_entero.Site.isin(\n",
    "        list(\n",
    "            test_diff[\n",
    "                (test_diff.TestRank <= 3) | (test_diff.TestRank > test_diff.TestRank.max() - 3)\n",
    "            ].sort_values(\"TestRank\").index)\n",
    "    )\n",
    "]\n",
    "\n",
    "mask1 = test_days[test_days.EnteroCount <= 110]\n",
    "mask2 = test_days[test_days.EnteroCount > 110]\n",
    "\n",
    "dat = [\n",
    "    go.Scatter(\n",
    "        x = mask1.Date,\n",
    "        y = mask1.Site,\n",
    "        mode = \"markers\",\n",
    "        name = \"Under EPA limit\",\n",
    "        marker = dict(\n",
    "            color = \"green\"\n",
    "            )\n",
    "    ),\n",
    "    go.Scatter(\n",
    "        x = mask2.Date,\n",
    "        y = mask2.Site,\n",
    "        mode = \"markers\",\n",
    "        name = \"Over EPA limit\",\n",
    "        marker = dict(\n",
    "            color = \"red\"\n",
    "            )\n",
    "    )\n",
    "]\n",
    "\n",
    "lay = go.Layout(\n",
    "    margin = go.Margin(l=150),\n",
    "    title = \"Testing Days of Sites\",\n",
    "    xaxis = {\"title\" : \"Date\"},\n",
    "    yaxis = {\"type\" : \"category\"}\n",
    ")\n",
    "\n",
    "fig = go.Figure(data = dat, layout = lay)\n",
    "\n",
    "py.iplot(fig)"
   ]
  },
  {
   "cell_type": "markdown",
   "metadata": {},
   "source": [
    "### Quesiton 3\n",
    "\n",
    "**Is there a relationship between the amount of rain and water quality? Show this relationship graphically. If you can, estimate the effect of rain on quality at different sites and create a visualization to compare them.**"
   ]
  },
  {
   "cell_type": "markdown",
   "metadata": {},
   "source": [
    "First we will look at the correlation for the variables."
   ]
  },
  {
   "cell_type": "code",
   "execution_count": 10,
   "metadata": {
    "collapsed": false
   },
   "outputs": [
    {
     "data": {
      "text/html": [
       "<div>\n",
       "<table border=\"1\" class=\"dataframe\">\n",
       "  <thead>\n",
       "    <tr style=\"text-align: right;\">\n",
       "      <th></th>\n",
       "      <th>EnteroCount</th>\n",
       "      <th>FourDayRainTotal</th>\n",
       "      <th>SampleCount</th>\n",
       "    </tr>\n",
       "  </thead>\n",
       "  <tbody>\n",
       "    <tr>\n",
       "      <th>EnteroCount</th>\n",
       "      <td>1.000000</td>\n",
       "      <td>0.144805</td>\n",
       "      <td>0.077889</td>\n",
       "    </tr>\n",
       "    <tr>\n",
       "      <th>FourDayRainTotal</th>\n",
       "      <td>0.144805</td>\n",
       "      <td>1.000000</td>\n",
       "      <td>0.001875</td>\n",
       "    </tr>\n",
       "    <tr>\n",
       "      <th>SampleCount</th>\n",
       "      <td>0.077889</td>\n",
       "      <td>0.001875</td>\n",
       "      <td>1.000000</td>\n",
       "    </tr>\n",
       "  </tbody>\n",
       "</table>\n",
       "</div>"
      ],
      "text/plain": [
       "                  EnteroCount  FourDayRainTotal  SampleCount\n",
       "EnteroCount          1.000000          0.144805     0.077889\n",
       "FourDayRainTotal     0.144805          1.000000     0.001875\n",
       "SampleCount          0.077889          0.001875     1.000000"
      ]
     },
     "execution_count": 10,
     "metadata": {},
     "output_type": "execute_result"
    }
   ],
   "source": [
    "river_entero.corr()"
   ]
  },
  {
   "cell_type": "markdown",
   "metadata": {},
   "source": [
    "From the correlations above it does not appear that there is a correlaiton between `FourDayRainTotal` and `EnteroCount`. In order to take a closer look at this correlaiton, we will group the data by `FourDayRainTotal` and average Entero counts to get a clearer view of the relaitonship. The findings are plotted below using Seaborn's simple ordinary least squares regression tool. Outliers were removed prior to the fitting process."
   ]
  },
  {
   "cell_type": "code",
   "execution_count": 11,
   "metadata": {
    "collapsed": false,
    "scrolled": true
   },
   "outputs": [
    {
     "data": {
      "text/plain": [
       "<matplotlib.text.Text at 0xea81e48>"
      ]
     },
     "execution_count": 11,
     "metadata": {},
     "output_type": "execute_result"
    },
    {
     "data": {
      "image/png": "[encoded data removed]",
      "text/plain": [
       "<matplotlib.figure.Figure at 0xd70f3c8>"
      ]
     },
     "metadata": {},
     "output_type": "display_data"
    }
   ],
   "source": [
    "rain = pd.DataFrame(\n",
    "    river_entero.groupby(\n",
    "        [\"FourDayRainTotal\"]).EnteroCount.agg(\n",
    "            {\"AvgEnteroCount\" : np.mean}))\n",
    "\n",
    "# Remove values > 3 stds from mean\n",
    "rain = rain[np.abs(\n",
    "        rain.AvgEnteroCount - rain.AvgEnteroCount.mean()) <=\n",
    "            3*rain.AvgEnteroCount.std()]\n",
    "\n",
    "ax = sns.regplot(rain.index.values,rain.AvgEnteroCount.values)\n",
    "ax.set_xlabel(\"Four Day Rain Fall\")\n",
    "ax.set_ylabel(\"Avg Entero Count\")"
   ]
  },
  {
   "cell_type": "markdown",
   "metadata": {},
   "source": [
    "The regression line is nearly flat and there appears to be a weak correlaiton between rainfall and Entero levels. The $R^2$ is 0.067, which means the variability of the Entero Count is not well described by Rain Fall. A log-scale transform was attempted, but it also did not render an appropriate fit.\n",
    "\n",
    "Even though it is not appropriate to use rain fall as predictor for Entero counts, we can still visualize the two. The plot below shows Entero counts by site for the 10 largest violators of exceeding EPA Entero count levels. The size of the marker represents the rainfall; the larger the marker, the larger the rainfall. A log-scale is used for Entero count on the x-axis due to the heavily right-skewed data. It is not a good way to estimate the effects of rain on Entero counts, but it is helpful in seeing that there is not correlaiton."
   ]
  },
  {
   "cell_type": "code",
   "execution_count": 12,
   "metadata": {
    "collapsed": false,
    "scrolled": true
   },
   "outputs": [
    {
     "data": {
      "text/html": [
       "<iframe id=\"igraph\" scrolling=\"no\" style=\"border:none;\" seamless=\"seamless\" src=\"https://plot.ly/~Liam-O/216.embed\" height=\"525px\" width=\"100%\"></iframe>"
      ],
      "text/plain": [
       "<plotly.tools.PlotlyDisplay object>"
      ]
     },
     "execution_count": 12,
     "metadata": {},
     "output_type": "execute_result"
    }
   ],
   "source": [
    "#Filter our all but the 10 worst Sites\n",
    "river = river_entero[\n",
    "    river_entero.Site.isin(\n",
    "        river_avg[river_avg.SwimRank > max(river_avg.SwimRank)-10].index\n",
    "    )\n",
    "]\n",
    "\n",
    "dat = [\n",
    "    go.Scatter(\n",
    "        x = river.EnteroCount,\n",
    "        y = river.Site,\n",
    "        mode = \"markers\",\n",
    "        marker = dict(\n",
    "            size = river.FourDayRainTotal*5\n",
    "            )\n",
    "    )\n",
    "]\n",
    "\n",
    "lay = go.Layout(\n",
    "    margin = go.Margin(l=200),\n",
    "    title = \"Rain Fall and the 10 Largest Violators of Exceeding EPA Entero Levels\",\n",
    "    xaxis = dict (\n",
    "        {\"title\" : \"Entero Count\"},\n",
    "        type='log',\n",
    "        autorange=True\n",
    "    )\n",
    ")\n",
    "\n",
    "fig = go.Figure(data = dat, layout = lay)\n",
    "\n",
    "py.iplot(fig)"
   ]
  }
 ],
 "metadata": {
  "anaconda-cloud": {
   "attach-environment": false,
   "environment": null,
   "summary": "Data 608 - Homework 4",
   "url": "https://anaconda.org/liam-o/lbyrne_hw4"
  },
  "kernelspec": {
   "display_name": "Python [default]",
   "language": "python",
   "name": "python2"
  },
  "language_info": {
   "codemirror_mode": {
    "name": "ipython",
    "version": 2
   },
   "file_extension": ".py",
   "mimetype": "text/x-python",
   "name": "python",
   "nbconvert_exporter": "python",
   "pygments_lexer": "ipython2",
   "version": "2.7.12"
  },
  "widgets": {
   "state": {
    "37e6a521d0aa4858a041bc83d4e92f78": {
     "views": [
      {
       "cell_index": 17
      }
     ]
    },
    "934ed95f6f7445b78d052664f7516872": {
     "views": [
      {
       "cell_index": 12
      }
     ]
    },
    "f03d6afd614c4ba7a6963c1b4cb7d2b3": {
     "views": [
      {
       "cell_index": 9
      }
     ]
    }
   },
   "version": "1.2.0"
  }
 },
 "nbformat": 4,
 "nbformat_minor": 1
}
